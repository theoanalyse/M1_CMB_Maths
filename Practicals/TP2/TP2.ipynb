{
 "cells": [
  {
   "cell_type": "markdown",
   "metadata": {},
   "source": [
    "---\n",
    "\n",
    "<center>\n",
    "    <h1>\n",
    "On how to get a glimpse of the fourteenth dimension, and the Perron-Frobenius Theorem\n",
    "    </h1>\n",
    "</center>\n",
    "\n",
    "---\n",
    "\n",
    "<h2> Part I. Principal Component Analysis</h2>\n",
    "\n",
    "<p>\n",
    "Having a good visual representation in mathematics is not always an easy task, especially when it comes to work in high dimensional spaces ($n > 3$) while at the same time, datasets are getting larger and larger. In this kind of situation, it happens that the PCA is a strong ally. The term PCA stands for Principal Component Analysis, and - roughly speaking - consists in smashing a very high dimensional clouds of points into a nice, well-chosen, 2D (or sometimes 3D) space that is prone to visualisation. In the mathematical jargon, one would say that it consists in diagonalizing the matrix of correlation, but we will get to this later.\n",
    "</p>\n",
    "\n",
    "<p>\n",
    "The goal of this first section is thus to walk through the different steps of the PCA, so without further ado, let us start !\n",
    "</p>"
   ]
  },
  {
   "cell_type": "code",
   "execution_count": 2,
   "metadata": {},
   "outputs": [],
   "source": [
    "# First, one must not forget about the necessary imports\n",
    "import pandas as pd\n",
    "import numpy as np\n",
    "import matplotlib.pyplot as plt"
   ]
  },
  {
   "cell_type": "markdown",
   "metadata": {},
   "source": [
    "We're almost finished with the prerequisites, nonetheless we are missing the most important part of the process : the data set.\n",
    "During this project we will be working on the given data set \"deca.txt\" in which is confined the results of 42 athletes in 14 different disciplines, all that in 2 different competitions. In the following we shall not distinguish from which competition each athlete is."
   ]
  },
  {
   "cell_type": "code",
   "execution_count": 7,
   "metadata": {},
   "outputs": [
    {
     "name": "stdout",
     "output_type": "stream",
     "text": [
      "          100m  Long.jump  Shot.put  High.jump   400m  110m.hurdle  Discus  \\\n",
      "SEBRLE   11.04       7.58     14.83       2.07  49.81        14.69   43.75   \n",
      "CLAY     10.76       7.40     14.26       1.86  49.37        14.05   50.72   \n",
      "KARPOV   11.02       7.30     14.77       2.04  48.37        14.09   48.95   \n",
      "BERNARD  11.02       7.23     14.25       1.92  48.93        14.99   40.87   \n",
      "YURKOV   11.34       7.09     15.19       2.10  50.42        15.31   46.26   \n",
      "\n",
      "         Pole.vault  Javeline  1500m  \n",
      "SEBRLE         5.02     63.19  291.7  \n",
      "CLAY           4.92     60.15  301.5  \n",
      "KARPOV         4.92     50.31  300.2  \n",
      "BERNARD        5.32     62.77  280.1  \n",
      "YURKOV         4.72     63.44  276.4  \n"
     ]
    }
   ],
   "source": [
    "# Importing the data\n",
    "data = pd.read_csv('deca.txt', sep=\"\\t\")\n",
    "\n",
    "# Cleaning the data by removing non-text and not useful columns\n",
    "my_data = data.drop(['Points', 'Rank', 'Competition'], axis=1)\n",
    "\n",
    "# Glimpse on the data\n",
    "print(my_data.head())"
   ]
  },
  {
   "cell_type": "markdown",
   "metadata": {},
   "source": [
    "Of course, let us now store the numbers in a matrix :"
   ]
  },
  {
   "cell_type": "code",
   "execution_count": 8,
   "metadata": {},
   "outputs": [],
   "source": [
    "XX = np.array(my_data.values)"
   ]
  },
  {
   "cell_type": "markdown",
   "metadata": {},
   "source": [
    "At this point, one might be genuinely tempted to move forward. However, at this stage the data is not normalized. Namely, take this amazing example from [this video (26m17s - 27m29s)](https://youtu.be/uV5hmpzmWsU?t=1576) which expose the major issue when trying to put in evidence the correlation between the size, and the mass of an individual : Take the size in centimeters and the weight in kilograms, then the cloud of points will be squished along the \"weight\" axis. Conversely, take the size in centimeters and the weight in quintals, this time the cloud will be streched along the \"size\" axis. \n",
    "\n",
    "Let us then recall quickly that if $X^{(m)} = (x_1^{(m)}, \\dots, x_n^{(m)})$ is our data set representing the variable $m$, call \n",
    "\n",
    "$$\\overline{X}^{(m)} \\triangleq \\frac{1}{n} \\sum_{i=1}^{n} x_i^{(m)} \\quad \\text{as well as} \\quad \\sigma_{X^{(m)}}^2 \\triangleq \n",
    "\\frac{1}{n}\\sum_{i=1}^{n} \\left( x_i^{(m)} - \\overline{X}^{(m)}\\right)$$\n",
    "\n",
    "Finally define the data set :\n",
    "\n",
    "$$X \\triangleq \\frac{XX - \\overline{XX}}{\\sigma_{XX}}$$\n",
    "\n",
    "This set is now of mean $0$ and of standard deviation $1$ which allows us to continue from here. In the following, we define a bunch of functions whose goal is to normalize the data for a given array.\n",
    "\n",
    "**Warning : I use the convention $X_{i, j}$ = individual i evaluated for variable j**"
   ]
  },
  {
   "cell_type": "code",
   "execution_count": 31,
   "metadata": {},
   "outputs": [],
   "source": [
    "def get_mean(M):\n",
    "    return np.sum(M) / len(M)\n",
    "\n",
    "def get_std(M):\n",
    "    mean = get_mean(M)\n",
    "    num = np.sum([(x-mean)**2 for x in M])\n",
    "    std = num / (len(M))\n",
    "    return np.sqrt(std)\n",
    "\n",
    "def normalize_data(M):\n",
    "    rows, cols = M.shape\n",
    "    new_mat = np.zeros((rows, cols))\n",
    "    tmp = np.zeros(rows)\n",
    "    for col in range(cols):\n",
    "        mean = get_mean(M[:, col])\n",
    "        sigma = get_std(M[:, col])\n",
    "        tmp = np.array([])\n",
    "        for e in M[:, col]:\n",
    "            tmp = np.append(tmp, (e - mean) / sigma)\n",
    "        new_mat[:, col] = tmp\n",
    "    return new_mat\n",
    "\n",
    "X = normalize_data(XX)"
   ]
  },
  {
   "cell_type": "markdown",
   "metadata": {},
   "source": [
    "Continue ?"
   ]
  },
  {
   "cell_type": "code",
   "execution_count": 33,
   "metadata": {},
   "outputs": [
    {
     "data": {
      "image/png": "[encoded data removed]",
      "text/plain": [
       "<Figure size 1152x648 with 1 Axes>"
      ]
     },
     "metadata": {},
     "output_type": "display_data"
    }
   ],
   "source": [
    "# SVD of the normalized data\n",
    "U, S, VT = np.linalg.svd(X)\n",
    "\n",
    "# Only keep the two vectors (associated to the two largest principal components)\n",
    "new_directions = VT.T[:, :2]\n",
    "\n",
    "# Project the cloud of points on the new directions\n",
    "X_pca = X.dot(new_directions)\n",
    "\n",
    "# fetches x and y coordinate of each point X_i\n",
    "xs = [X_pca[i, 0] for i in range(len(X_pca))]\n",
    "ys = [X_pca[i, 1] for i in range(len(X_pca))]\n",
    "\n",
    "# display PCA using scatter plot\n",
    "plt.style.use(\"ggplot\")\n",
    "plt.rcParams[\"figure.figsize\"] = (16,9)\n",
    "\n",
    "fig, ax = plt.subplots()\n",
    "\n",
    "ax.scatter(xs, ys, c='g', marker='*', s=70)\n",
    "\n",
    "ax.set_xlabel(\"Principal Component 1\")\n",
    "ax.set_ylabel(\"Principal Component 2\")\n",
    "plt.title(\"PCA Over The Deca Dataset\")\n",
    "plt.show()"
   ]
  },
  {
   "cell_type": "markdown",
   "metadata": {},
   "source": [
    "<h2>Interpreting the data ?</h2>"
   ]
  },
  {
   "cell_type": "markdown",
   "metadata": {},
   "source": [
    "<h2>Part II. Perron Frobenius in population dynamics</h2>\n",
    "\n",
    "Lorsque l'on s'intéresse à l'évolution d'une population dans le temps, il peut être intéressant dans un premier temps d'approximer le modèle par un processus itératif $X^{n+1} = MX^n$. Les itérés de la matrice $M$ - fortement dépendante des conditions du problème initial - renferment de précieuses informations quand au comportement asymptotique du système : Évolution temporelle et spatiale de la population ? La population tend-elle vers un état stable ou non ? Quelle sera la proportion de chaque individu sur le long terme ?\n",
    "\n",
    "Toutes ces questions trouverons leur réponse dans la suite de ce projet."
   ]
  },
  {
   "cell_type": "code",
   "execution_count": null,
   "metadata": {},
   "outputs": [],
   "source": []
  },
  {
   "cell_type": "markdown",
   "metadata": {},
   "source": [
    "$$\\det\\left( \\lambda I_n - \\mathcal L \\right) \\ = \\ \\det\n",
    "\\begin{bmatrix}\n",
    "\\lambda - f_1 & -f_2 & -f_3 & \\dots & -f_n \\\\\n",
    "-s_1 & \\lambda & 0 & \\dots & 0 \\\\\n",
    "0 & -s_2 & \\lambda & \\dots & 0 \\\\\n",
    "\\vdots & \\vdots & \\ddots & \\ddots & \\vdots \\\\\n",
    "0 & 0 & \\dots & \\lambda & 0 \\\\\n",
    "0 & 0 & \\dots & s_{n-1} & \\lambda \n",
    "\\end{bmatrix}$$"
   ]
  },
  {
   "cell_type": "markdown",
   "metadata": {},
   "source": [
    "One develops the determinant with respect to the first column"
   ]
  },
  {
   "cell_type": "markdown",
   "metadata": {},
   "source": [
    "$$\\det\\left( \\lambda I_n - \\mathcal L \\right) \\ = \\ \\left( \\lambda - f_1 \\right) \\det \n",
    "\\begin{bmatrix}\n",
    "\\lambda & 0 & 0 & \\dots & 0 \\\\\n",
    "-s_2 & \\lambda & 0 & \\dots & 0 \\\\\n",
    "0 & -s_3 & \\lambda & \\dots & 0 \\\\\n",
    "\\vdots & \\vdots & \\ddots & \\ddots & \\vdots \\\\\n",
    "0 & 0 & \\dots & -s_{n-1} & \\lambda\n",
    "\\end{bmatrix}\n",
    "+ s_1 \\det \n",
    "\\begin{bmatrix}\n",
    "-f_2 & -f_3 & -f_4 & \\dots & -f_n \\\\\n",
    "-s_2 & \\lambda & 0 & \\dots & 0 \\\\\n",
    "0 & -s_3 & \\lambda & \\dots & 0 \\\\\n",
    "\\vdots & \\vdots & \\ddots & \\ddots & \\vdots \\\\\n",
    "0 & 0 & \\dots & -s_{n-1} & \\lambda\n",
    "\\end{bmatrix}$$\n",
    "\n",
    "$$ =(\\lambda - f_1)\\lambda^{n-1} + s_1 \\left[ \\right]$$"
   ]
  },
  {
   "cell_type": "code",
   "execution_count": null,
   "metadata": {},
   "outputs": [],
   "source": []
  }
 ],
 "metadata": {
  "kernelspec": {
   "display_name": "Python 3",
   "language": "python",
   "name": "python3"
  },
  "language_info": {
   "codemirror_mode": {
    "name": "ipython",
    "version": 3
   },
   "file_extension": ".py",
   "mimetype": "text/x-python",
   "name": "python",
   "nbconvert_exporter": "python",
   "pygments_lexer": "ipython3",
   "version": "3.8.5"
  }
 },
 "nbformat": 4,
 "nbformat_minor": 4
}
